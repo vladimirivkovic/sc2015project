{
 "cells": [
  {
   "cell_type": "code",
   "execution_count": 3,
   "metadata": {
    "collapsed": true
   },
   "outputs": [],
   "source": [
    "#import potrebnih biblioteka\n",
    "import numpy as np\n",
    "import scipy as sc\n",
    "import matplotlib.pyplot as plt\n",
    "from scipy.spatial import distance\n",
    "\n",
    "# keras\n",
    "from keras.models import Sequential\n",
    "from keras.layers.core import Dense,Activation\n",
    "from keras.optimizers import SGD"
   ]
  },
  {
   "cell_type": "code",
   "execution_count": 4,
   "metadata": {
    "collapsed": true
   },
   "outputs": [],
   "source": [
    "def matrix_to_vector(mat):\n",
    "    return mat.flatten()\n",
    "def prepare_for_ann(regions):\n",
    "    ready_for_ann = []\n",
    "    for region in regions:\n",
    "        ready_for_ann.append(matrix_to_vector(region))\n",
    "    return ready_for_ann\n",
    "def convert_output(outputs):\n",
    "    return np.eye(len(outputs))\n",
    "def winner(output):\n",
    "    return max(enumerate(output), key=lambda x: x[1])[0]"
   ]
  },
  {
   "cell_type": "code",
   "execution_count": 5,
   "metadata": {
    "collapsed": true
   },
   "outputs": [],
   "source": [
    "hidden_neurons = 2\n",
    "sw = 17\n",
    "\n",
    "def create_ann():\n",
    "    \n",
    "    ann = Sequential()\n",
    "    # Postavljanje slojeva neurona mreže 'ann'\n",
    "    ann.add(Dense(input_dim=21*sw, output_dim=hidden_neurons,init=\"glorot_uniform\"))\n",
    "    ann.add(Activation(\"sigmoid\"))\n",
    "    ann.add(Dense(input_dim=hidden_neurons, output_dim=3,init=\"glorot_uniform\"))\n",
    "    ann.add(Activation(\"sigmoid\"))\n",
    "    return ann\n",
    "    \n",
    "def train_ann(ann, X_train, y_train):\n",
    "    X_train = np.array(X_train, np.float32)\n",
    "    y_train = np.array(y_train, np.float32)\n",
    "   \n",
    "    # definisanje parametra algoritma za obucavanje\n",
    "    sgd = SGD(lr=0.01, momentum=0.9)\n",
    "    ann.compile(loss='mean_squared_error', optimizer=sgd)\n",
    "\n",
    "    # obucavanje neuronske mreze\n",
    "    ann.fit(X_train, y_train, nb_epoch=50, batch_size=1, verbose = 0, shuffle=False, show_accuracy = False) \n",
    "      \n",
    "    return ann"
   ]
  },
  {
   "cell_type": "code",
   "execution_count": 6,
   "metadata": {
    "collapsed": false
   },
   "outputs": [],
   "source": [
    "#amino acid sinle letter codes\n",
    "aac = {}\n",
    "codes = np.eye(21)\n",
    "aac['G'] = codes[0]\n",
    "aac['A'] = codes[1]\n",
    "aac['L'] = codes[2]\n",
    "aac['M'] = codes[3]\n",
    "aac['F'] = codes[4]\n",
    "aac['W'] = codes[5]\n",
    "aac['K'] = codes[6]\n",
    "aac['Q'] = codes[7]\n",
    "aac['E'] = codes[8]\n",
    "aac['S'] = codes[9]\n",
    "aac['P'] = codes[10]\n",
    "aac['V'] = codes[11]\n",
    "aac['C'] = codes[12]\n",
    "aac['I'] = codes[13]\n",
    "aac['Y'] = codes[14]\n",
    "aac['H'] = codes[15]\n",
    "aac['R'] = codes[16]\n",
    "aac['N'] = codes[17]\n",
    "aac['D'] = codes[18]\n",
    "aac['T'] = codes[19]\n",
    "aac['ERROR'] = codes[20]\n",
    "\n",
    "alphabeth = ['H', 'E', 'C']\n",
    "alph = {}\n",
    "alph['H'] = [1,0,0]\n",
    "alph['E'] = [0,1,0]\n",
    "alph['C'] = [0,0,1]"
   ]
  },
  {
   "cell_type": "code",
   "execution_count": 7,
   "metadata": {
    "collapsed": false
   },
   "outputs": [],
   "source": [
    "def convert_input(sec, prim, sw):\n",
    "    length = len(prim)\n",
    "    ins = []\n",
    "    outs = []\n",
    "    for j in range(length - sw):\n",
    "        inputs = []\n",
    "        for k in range(j, j+sw):\n",
    "            if aac.has_key(prim[k]):\n",
    "                inputs.append(aac[prim[k]])\n",
    "            else:\n",
    "                inputs.append(aac['ERROR'])\n",
    "        ins.append(np.array(inputs).flatten())\n",
    "        outs.append(alph[sec[j+sw/2]])\n",
    "    return (ins, outs)\n",
    "\n",
    "#convert_input('TWTYILRQGD', 'CCEEEEEHHH', 3)"
   ]
  },
  {
   "cell_type": "code",
   "execution_count": 8,
   "metadata": {
    "collapsed": false
   },
   "outputs": [],
   "source": [
    "#read dataset file\n",
    "x = 20\n",
    "\n",
    "inputs_train = []\n",
    "outputs_train = []\n",
    "\n",
    "f = open('dataSet.txt', 'r')\n",
    "for i in range(x):\n",
    "    f.readline()\n",
    "    prim = f.readline()\n",
    "    sec = f.readline()\n",
    "    ins, outs = convert_input(sec, prim, sw)\n",
    "    for q in ins:\n",
    "        inputs_train.append(q)\n",
    "    for q in outs:\n",
    "        outputs_train.append(q)\n",
    "    \n",
    "f.close()\n",
    "    \n",
    "#print inputs_train\n",
    "    \n",
    "ann = create_ann()\n",
    "ann = train_ann(ann, inputs_train, outputs_train)"
   ]
  },
  {
   "cell_type": "code",
   "execution_count": 9,
   "metadata": {
    "collapsed": true
   },
   "outputs": [],
   "source": [
    "def display_result(outputs, alphabet):\n",
    "    result = ''\n",
    "    for x in outputs:\n",
    "        result += alphabet[winner(x)]\n",
    "    return result"
   ]
  },
  {
   "cell_type": "code",
   "execution_count": 10,
   "metadata": {
    "collapsed": false
   },
   "outputs": [],
   "source": [
    "def compare(a, b, s):\n",
    "    l = len(b)\n",
    "    x = 0.0\n",
    "    y = 0.0\n",
    "    for i in range(l - s):\n",
    "        if a[i] == b[i + s/2]:\n",
    "            x += 1\n",
    "        else:\n",
    "            y += 1\n",
    "    return x/(x+y)"
   ]
  },
  {
   "cell_type": "code",
   "execution_count": 19,
   "metadata": {
    "collapsed": false
   },
   "outputs": [
    {
     "name": "stdout",
     "output_type": "stream",
     "text": [
      "0.548456859051\n"
     ]
    }
   ],
   "source": [
    "f = open('dataSet.txt', 'r')\n",
    "\n",
    "z = 100\n",
    "sum = 0\n",
    "\n",
    "for i in range(x+z):\n",
    "    f.readline()\n",
    "    prim = f.readline()\n",
    "    sec = f.readline()\n",
    "    if i > x:\n",
    "        ins, outs = convert_input(sec, prim, sw)\n",
    "        pred = display_result(ann.predict(np.array(ins, np.float32)), ['H', 'E', 'C'])\n",
    "        #print \"XXXXXXXX\" + pred + \"XXXXXXXX\"\n",
    "        #print sec\n",
    "        #print compare(pred, sec, sw)\n",
    "        sum += compare(pred, sec, sw)\n",
    "\n",
    "print sum/z"
   ]
  }
 ],
 "metadata": {
  "kernelspec": {
   "display_name": "Python 2",
   "language": "python",
   "name": "python2"
  },
  "language_info": {
   "codemirror_mode": {
    "name": "ipython",
    "version": 2
   },
   "file_extension": ".py",
   "mimetype": "text/x-python",
   "name": "python",
   "nbconvert_exporter": "python",
   "pygments_lexer": "ipython2",
   "version": "2.7.10"
  }
 },
 "nbformat": 4,
 "nbformat_minor": 0
}
