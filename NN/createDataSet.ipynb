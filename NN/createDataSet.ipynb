{
 "cells": [
  {
   "cell_type": "code",
   "execution_count": 11,
   "metadata": {
    "collapsed": false
   },
   "outputs": [],
   "source": [
    "f1 = open('Proteins.fa', 'r')\n",
    "f2 = open('SSpro.dssp', 'r')\n",
    "\n",
    "proteins = {}\n",
    "p = \"\"\n",
    "struct = \"\"\n",
    "\n",
    "while True:\n",
    "    p = f1.readline()\n",
    "    if p == \"\":\n",
    "        break\n",
    "        \n",
    "    struct = f1.readline()\n",
    "    if proteins.has_key(p) == False:\n",
    "        proteins[p] = {}\n",
    "    proteins[p][\"prim\"] = struct\n",
    "\n",
    "while True:\n",
    "    p = f2.readline()\n",
    "    if p == \"\":\n",
    "        break\n",
    "        \n",
    "    struct = f2.readline()\n",
    "    if proteins.has_key(p) == False:\n",
    "        proteins[p] = {}\n",
    "    proteins[p][\"sec\"] = struct\n",
    "\n",
    "len(proteins.keys())\n",
    "\n",
    "f1.close()\n",
    "f2.close()\n",
    "\n",
    "f3 = open('dataSet.txt', 'w')\n",
    "for x in proteins:\n",
    "    f3.write(x)\n",
    "    f3.write(proteins[x][\"prim\"])\n",
    "    f3.write(proteins[x][\"sec\"])\n",
    "    \n",
    "    if len(proteins[x][\"prim\"]) != len(proteins[x][\"sec\"]):\n",
    "        print('error')"
   ]
  }
 ],
 "metadata": {
  "kernelspec": {
   "display_name": "Python 2",
   "language": "python",
   "name": "python2"
  },
  "language_info": {
   "codemirror_mode": {
    "name": "ipython",
    "version": 2
   },
   "file_extension": ".py",
   "mimetype": "text/x-python",
   "name": "python",
   "nbconvert_exporter": "python",
   "pygments_lexer": "ipython2",
   "version": "2.7.10"
  }
 },
 "nbformat": 4,
 "nbformat_minor": 0
}
