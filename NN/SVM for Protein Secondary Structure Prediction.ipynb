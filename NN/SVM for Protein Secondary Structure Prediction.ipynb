{
 "cells": [
  {
   "cell_type": "code",
   "execution_count": 159,
   "metadata": {
    "collapsed": false
   },
   "outputs": [],
   "source": [
    "from sklearn import svm\n",
    "import collections\n",
    "import numpy as np\n",
    "import scipy as sc\n",
    " "
   ]
  },
  {
   "cell_type": "code",
   "execution_count": 21,
   "metadata": {
    "collapsed": false
   },
   "outputs": [],
   "source": [
    "#amino acid sinle letter codes\n",
    "aac = {}\n",
    "\n",
    "rest = 'Z';\n",
    "\n",
    "codes = np.eye(21)\n",
    "aac['G'] = codes[0]\n",
    "aac['A'] = codes[1]\n",
    "aac['L'] = codes[2]\n",
    "aac['M'] = codes[3]\n",
    "aac['F'] = codes[4]\n",
    "aac['W'] = codes[5]\n",
    "aac['K'] = codes[6]\n",
    "aac['Q'] = codes[7]\n",
    "aac['E'] = codes[8]\n",
    "aac['S'] = codes[9]\n",
    "aac['P'] = codes[10]\n",
    "aac['V'] = codes[11]\n",
    "aac['C'] = codes[12]\n",
    "aac['I'] = codes[13]\n",
    "aac['Y'] = codes[14]\n",
    "aac['H'] = codes[15]\n",
    "aac['R'] = codes[16]\n",
    "aac['N'] = codes[17]\n",
    "aac['D'] = codes[18]\n",
    "aac['T'] = codes[19]\n",
    "aac[rest] = codes[20]\n",
    "\n",
    "alphabeth = ['H', 'E', 'C']\n",
    "alph = {}\n",
    "alph['H'] = 0\n",
    "alph['E'] = 1\n",
    "alph['C'] = 2"
   ]
  },
  {
   "cell_type": "code",
   "execution_count": 160,
   "metadata": {
    "collapsed": false
   },
   "outputs": [],
   "source": [
    "def convert_input(sec, prim, sw):\n",
    "    length = len(prim)\n",
    "    ins = []\n",
    "    outs = []\n",
    "    for j in range(length - sw):\n",
    "        inputs = []\n",
    "        for k in range(j, j+sw):\n",
    "            if aac.has_key(prim[k]):\n",
    "                inputs.append(aac[prim[k]])\n",
    "            else:\n",
    "                inputs.append(aac[rest])\n",
    "        ins.append(np.array(inputs).flatten())\n",
    "        outs.append(alph[sec[j+sw/2]])\n",
    "    return (ins, outs)"
   ]
  },
  {
   "cell_type": "code",
   "execution_count": null,
   "metadata": {
    "collapsed": false
   },
   "outputs": [],
   "source": [
    "#read dataset file\n",
    "sw = 9\n",
    "x = 50\n",
    "\n",
    "inputs_train = []\n",
    "outputs_train = []\n",
    "\n",
    "f = open('dataset.txt', 'r')\n",
    "for i in range(x):\n",
    "    f.readline()\n",
    "    prim = f.readline()\n",
    "    sec = f.readline()\n",
    "    ins, outs = convert_input(sec, prim, sw)\n",
    "    for q in ins:\n",
    "        inputs_train.append(q)\n",
    "    for q in outs:\n",
    "        outputs_train.append(q)\n",
    "    \n",
    "f.close()\n",
    "\n",
    "print len(inputs_train)\n",
    "print len(outputs_train)\n",
    "\n",
    "clf = svm.SVC(C=1.5, gamma=0.1)\n",
    "clf.fit(inputs_train, outputs_train)"
   ]
  },
  {
   "cell_type": "code",
   "execution_count": 162,
   "metadata": {
    "collapsed": true
   },
   "outputs": [],
   "source": [
    "def display_result(outputs, alphabet):\n",
    "    result = ''\n",
    "    for x in outputs:\n",
    "        result += alphabet[x]\n",
    "    return result\n",
    "\n",
    "def compare(a, b, s):\n",
    "    l = len(b)\n",
    "    x = 0.0\n",
    "    y = 0.0\n",
    "    for i in range(l - s):\n",
    "        if a[i] == b[i + s/2]:\n",
    "            x += 1\n",
    "        else:\n",
    "            y += 1\n",
    "    return x/(x+y)"
   ]
  },
  {
   "cell_type": "code",
   "execution_count": 166,
   "metadata": {
    "collapsed": false
   },
   "outputs": [
    {
     "name": "stdout",
     "output_type": "stream",
     "text": [
      "0.97\n",
      "0.96\n",
      "0.954248366013\n",
      "0.982142857143\n",
      "0.927152317881\n",
      "0.980694980695\n",
      "0.947058823529\n",
      "0.979020979021\n",
      "0.977941176471\n",
      "0.977099236641\n",
      "0.407692307692\n",
      "0.683168316832\n",
      "0.517857142857\n",
      "0.641509433962\n",
      "0.555555555556\n",
      "0.626728110599\n",
      "0.433333333333\n",
      "0.482558139535\n",
      "0.71974522293\n",
      "0.544827586207\n",
      "0.598591549296\n",
      "0.617021276596\n",
      "0.453237410072\n",
      "0.564102564103\n",
      "0.657894736842\n",
      "0.675925925926\n",
      "0.576923076923\n",
      "0.558823529412\n",
      "0.51\n",
      "0.574468085106\n",
      "0.41975308642\n",
      "0.4625\n",
      "0.582089552239\n",
      "0.72131147541\n",
      "0.540983606557\n",
      "0.526315789474\n",
      "0.531531531532\n",
      "0.473282442748\n",
      "0.515873015873\n",
      "0.498550724638\n",
      "0.55652173913\n",
      "0.448170731707\n",
      "0.716560509554\n",
      "0.527210884354\n",
      "0.464944649446\n",
      "0.580524344569\n",
      "0.660231660232\n",
      "0.430830039526\n",
      "0.65991902834\n",
      "0.60775862069\n",
      "total\n",
      "0.639603709472\n"
     ]
    }
   ],
   "source": [
    "f = open('dataset.txt', 'r')\n",
    "\n",
    "z = 50\n",
    "sum = 0\n",
    "\n",
    "for i in range(z):\n",
    "    f.readline()\n",
    "    prim = f.readline()\n",
    "    sec = f.readline()\n",
    "    ins, outs = convert_input(sec, prim, sw)\n",
    "    pred = display_result(clf.predict(np.array(ins, np.float32)), ['H', 'E', 'C'])\n",
    "    #print \"XXXX\" + pred + \"XXXX\"\n",
    "    #print sec\n",
    "    print compare(pred, sec, sw)\n",
    "    sum += compare(pred, sec, sw)\n",
    "\n",
    "print \"total\"\n",
    "print sum/z"
   ]
  },
  {
   "cell_type": "code",
   "execution_count": 156,
   "metadata": {
    "collapsed": false
   },
   "outputs": [],
   "source": [
    "def prepare_input_for(sec, prim, sw, struct):\n",
    "    length = len(prim) - 1\n",
    "    prefix = \"\"\n",
    "    sufix = \"\"\n",
    "    for q in range(sw/2):\n",
    "        prefix += rest\n",
    "        sufix += rest\n",
    "    primx = prefix + prim[0:-1] + sufix\n",
    "    ins = []\n",
    "    outs = []\n",
    "    for j in range(length):\n",
    "        inputs = []\n",
    "        for k in range(j - sw/2, j + sw/2 + 1):\n",
    "            if aac.has_key(primx[k]):\n",
    "                inputs.append(aac[primx[k]])\n",
    "            else:\n",
    "                inputs.append(aac[rest])\n",
    "        ins.append(np.array(inputs).flatten())\n",
    "        if sec[j] == struct:\n",
    "            outs.append(1)\n",
    "        else:\n",
    "            outs.append(0)\n",
    "    return (ins, outs)"
   ]
  },
  {
   "cell_type": "code",
   "execution_count": 157,
   "metadata": {
    "collapsed": false
   },
   "outputs": [],
   "source": [
    "def prepare_input_for2(sec, prim, sw, sx, sy):\n",
    "    length = len(prim) - 1\n",
    "    prefix = \"\"\n",
    "    sufix = \"\"\n",
    "    for q in range(sw/2):\n",
    "        prefix += rest\n",
    "        sufix += rest\n",
    "    primx = prefix + prim[0:-1] + sufix\n",
    "    ins = []\n",
    "    outs = []\n",
    "    for j in range(length):\n",
    "        if sec[j] != sx and sec[j] != sy:\n",
    "            continue\n",
    "        inputs = []\n",
    "        for k in range(j - sw/2, j + sw/2 + 1):\n",
    "            if aac.has_key(primx[k]):\n",
    "                inputs.append(aac[primx[k]])\n",
    "            else:\n",
    "                inputs.append(aac[rest])\n",
    "        ins.append(np.array(inputs).flatten())\n",
    "        if sec[j] == sx:\n",
    "            outs.append(1)\n",
    "        else:\n",
    "            outs.append(0)\n",
    "    return (ins, outs)"
   ]
  },
  {
   "cell_type": "code",
   "execution_count": 146,
   "metadata": {
    "collapsed": true
   },
   "outputs": [],
   "source": [
    "def calcQ(pred, sec, struct):\n",
    "    correct = 1\n",
    "    observed = 1\n",
    "    \n",
    "    for i in range(len(pred)):\n",
    "        if sec[i] == struct:\n",
    "            observed += 1\n",
    "            if sec[i] == pred[i]:\n",
    "                correct += 1\n",
    "    \n",
    "    return 100 * correct / observed\n",
    "\n",
    "def calcQpred(pred, sec, struct):\n",
    "    correct = 1\n",
    "    observed = 1\n",
    "    \n",
    "    for i in range(len(pred)):\n",
    "        if pred[i] == struct:\n",
    "            observed += 1\n",
    "            if pred[i] == sec[i]:\n",
    "                correct += 1\n",
    "    \n",
    "    return 100 * correct / observed"
   ]
  },
  {
   "cell_type": "code",
   "execution_count": 150,
   "metadata": {
    "collapsed": false
   },
   "outputs": [
    {
     "data": {
      "text/plain": [
       "SVC(C=1.5, cache_size=200, class_weight=None, coef0=0.0,\n",
       "  decision_function_shape=None, degree=3, gamma=0.1, kernel='rbf',\n",
       "  max_iter=-1, probability=False, random_state=None, shrinking=True,\n",
       "  tol=0.001, verbose=False)"
      ]
     },
     "execution_count": 150,
     "metadata": {},
     "output_type": "execute_result"
    }
   ],
   "source": [
    "inputs_train = []\n",
    "outputs_train = []\n",
    "\n",
    "dssp = 'C'\n",
    "z = 100\n",
    "\n",
    "f = open('dataset.txt', 'r')\n",
    "for i in range(z):\n",
    "    f.readline()\n",
    "    prim = f.readline()\n",
    "    sec = f.readline()\n",
    "    ins, outs = prepare_input_for(sec, prim, sw, dssp)\n",
    "    for q in ins:\n",
    "        inputs_train.append(q)\n",
    "    for q in outs:\n",
    "        outputs_train.append(q)\n",
    "    \n",
    "f.close()\n",
    "\n",
    "clf_H = svm.SVC(C=1.5, gamma=0.1)\n",
    "clf_H.fit(inputs_train, outputs_train)"
   ]
  },
  {
   "cell_type": "code",
   "execution_count": 158,
   "metadata": {
    "collapsed": false
   },
   "outputs": [
    {
     "name": "stdout",
     "output_type": "stream",
     "text": [
      "40 : 47\n",
      "40 : 72\n",
      "54 : 38\n",
      "40 : 38\n",
      "36 : 45\n",
      "40 : 80\n",
      "57 : 71\n",
      "45 : 53\n",
      "38 : 54\n"
     ]
    }
   ],
   "source": [
    "f = open('dataset.txt', 'r')\n",
    "\n",
    "for i in range(z+10):\n",
    "    f.readline()\n",
    "    prim = f.readline()\n",
    "    sec = f.readline()\n",
    "\n",
    "    ins, outs = prepare_input_for(sec, prim, sw, dssp)\n",
    "\n",
    "    pred = display_result(clf_H.predict(np.array(ins, np.float32)), {0:'X', 1:dssp})\n",
    "    if i > z:\n",
    "        print str(calcQ(pred, sec, dssp)) + \" : \" + str(calcQpred(pred, sec, dssp))"
   ]
  }
 ],
 "metadata": {
  "kernelspec": {
   "display_name": "Python 2",
   "language": "python",
   "name": "python2"
  },
  "language_info": {
   "codemirror_mode": {
    "name": "ipython",
    "version": 2
   },
   "file_extension": ".py",
   "mimetype": "text/x-python",
   "name": "python",
   "nbconvert_exporter": "python",
   "pygments_lexer": "ipython2",
   "version": "2.7.10"
  }
 },
 "nbformat": 4,
 "nbformat_minor": 0
}
