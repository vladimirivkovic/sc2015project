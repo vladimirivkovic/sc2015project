{
 "cells": [
  {
   "cell_type": "code",
   "execution_count": 1,
   "metadata": {
    "collapsed": false
   },
   "outputs": [],
   "source": [
    "from sklearn import svm\n",
    "import collections\n",
    "import numpy as np\n",
    "import scipy as sc\n",
    " "
   ]
  },
  {
   "cell_type": "code",
   "execution_count": 2,
   "metadata": {
    "collapsed": false
   },
   "outputs": [],
   "source": [
    "#amino acid sinle letter codes\n",
    "aac = {}\n",
    "\n",
    "rest = 'Z';\n",
    "\n",
    "codes = np.eye(21)\n",
    "aac['G'] = codes[0]\n",
    "aac['A'] = codes[1]\n",
    "aac['L'] = codes[2]\n",
    "aac['M'] = codes[3]\n",
    "aac['F'] = codes[4]\n",
    "aac['W'] = codes[5]\n",
    "aac['K'] = codes[6]\n",
    "aac['Q'] = codes[7]\n",
    "aac['E'] = codes[8]\n",
    "aac['S'] = codes[9]\n",
    "aac['P'] = codes[10]\n",
    "aac['V'] = codes[11]\n",
    "aac['C'] = codes[12]\n",
    "aac['I'] = codes[13]\n",
    "aac['Y'] = codes[14]\n",
    "aac['H'] = codes[15]\n",
    "aac['R'] = codes[16]\n",
    "aac['N'] = codes[17]\n",
    "aac['D'] = codes[18]\n",
    "aac['T'] = codes[19]\n",
    "aac[rest] = codes[20]\n",
    "\n",
    "alphabeth = ['H', 'E', 'C']\n",
    "alph = {}\n",
    "alph['H'] = 0\n",
    "alph['E'] = 1\n",
    "alph['C'] = 2"
   ]
  },
  {
   "cell_type": "code",
   "execution_count": 3,
   "metadata": {
    "collapsed": false
   },
   "outputs": [],
   "source": [
    "# prepare training data for 3-class SVM\n",
    "def convert_input(sec, prim, sw):\n",
    "    length = len(prim)\n",
    "    prefix = \"\"\n",
    "    sufix = \"\"\n",
    "    for q in range(sw/2):\n",
    "        prefix += rest\n",
    "        sufix += rest\n",
    "    primx = prefix + prim + sufix\n",
    "    ins = []\n",
    "    outs = []\n",
    "    for j in range(length):\n",
    "        inputs = []\n",
    "        for k in range(j, j + sw):\n",
    "            if aac.has_key(primx[k]):\n",
    "                inputs.append(aac[primx[k]])\n",
    "            else:\n",
    "                inputs.append(aac[rest])\n",
    "        ins.append(np.array(inputs).flatten())\n",
    "        outs.append(alph[sec[j]])\n",
    "    return (ins, outs)"
   ]
  },
  {
   "cell_type": "code",
   "execution_count": 4,
   "metadata": {
    "collapsed": false
   },
   "outputs": [],
   "source": [
    "def make_SVM_3(sw, x):\n",
    "    inputs_train = []\n",
    "    outputs_train = []\n",
    "\n",
    "    #read dataset file\n",
    "    f = open('dataSet.txt', 'r')\n",
    "    for i in range(x):\n",
    "        f.readline()\n",
    "        prim = f.readline().strip()\n",
    "        sec = f.readline().strip()\n",
    "        ins, outs = convert_input(sec, prim, sw)\n",
    "        for q in ins:\n",
    "            inputs_train.append(q)\n",
    "        for q in outs:\n",
    "            outputs_train.append(q)\n",
    "\n",
    "    f.close()\n",
    "\n",
    "    clf = svm.SVC(C=1.5, gamma=0.1)\n",
    "    clf.fit(inputs_train, outputs_train)\n",
    "    \n",
    "    return clf\n",
    "\n",
    "# sliding window\n",
    "sw = 11\n",
    "# number of samples for file\n",
    "x = 50\n",
    "\n",
    "clf = make_SVM_3(sw, x)"
   ]
  },
  {
   "cell_type": "code",
   "execution_count": 5,
   "metadata": {
    "collapsed": true
   },
   "outputs": [],
   "source": [
    "def display_result(outputs, alphabet):\n",
    "    result = ''\n",
    "    for x in outputs:\n",
    "        result += alphabet[x]\n",
    "    return result\n",
    "\n",
    "def compare(a, b):\n",
    "    l = len(b)\n",
    "    x = 0.000\n",
    "    y = 0.000\n",
    "    for i in range(l):\n",
    "        if a[i] == b[i]:\n",
    "            x += 1\n",
    "        else:\n",
    "            y += 1\n",
    "    return x/(x+y)"
   ]
  },
  {
   "cell_type": "code",
   "execution_count": 28,
   "metadata": {
    "collapsed": false,
    "scrolled": true
   },
   "outputs": [
    {
     "name": "stdout",
     "output_type": "stream",
     "text": [
      "total\n"
     ]
    },
    {
     "data": {
      "text/plain": [
       "(58, 60, 55, 49, 70, 62)"
      ]
     },
     "execution_count": 28,
     "metadata": {},
     "output_type": "execute_result"
    }
   ],
   "source": [
    "def test_SVM_3(clf, z, x):\n",
    "    f = open('dataSet.txt', 'r')\n",
    "    sum = 0    \n",
    "    qh = 0\n",
    "    qhp = 0\n",
    "    qe = 0\n",
    "    qep = 0\n",
    "    qc = 0\n",
    "    qcp = 0\n",
    "\n",
    "    for i in range(x+z):\n",
    "        f.readline()\n",
    "        prim = f.readline().strip()\n",
    "        sec = f.readline().strip()\n",
    "\n",
    "        if i > x:\n",
    "            ins, outs = convert_input(sec, prim, sw)\n",
    "            pred = display_result(clf.predict(np.array(ins, np.float32)), alphabeth)\n",
    "            sum += compare(pred, sec)\n",
    "            \n",
    "            qh += calcQ(pred, sec, 'H')\n",
    "            qhp += calcQpred(pred, sec, 'H')\n",
    "            qe += calcQ(pred, sec, 'E')\n",
    "            qep += calcQpred(pred, sec, 'E')\n",
    "            qc += calcQ(pred, sec, 'C')\n",
    "            qcp += calcQpred(pred, sec, 'C')\n",
    "\n",
    "    print \"total\"\n",
    "    return (qh/z, qhp/z, qe/z, qep/z, qc/z, qcp/z)\n",
    "\n",
    "sw = 11\n",
    "z = 200\n",
    "test_SVM_3(clf, z, x)"
   ]
  },
  {
   "cell_type": "code",
   "execution_count": 7,
   "metadata": {
    "collapsed": false
   },
   "outputs": [],
   "source": [
    "def prepare_input_for(sec, prim, sw, struct):\n",
    "    length = len(prim)\n",
    "    \n",
    "    prefix = \"\"\n",
    "    sufix = \"\"\n",
    "    for q in range(sw/2):\n",
    "        prefix += rest\n",
    "        sufix += rest\n",
    "        \n",
    "    primx = prefix + prim + sufix\n",
    "    ins = []\n",
    "    outs = []\n",
    "    \n",
    "    for j in range(length):\n",
    "        inputs = []\n",
    "        \n",
    "        for k in range(j, j + sw):\n",
    "            if aac.has_key(primx[k]):\n",
    "                inputs.append(aac[primx[k]])\n",
    "            else:\n",
    "                inputs.append(aac[rest])\n",
    "                \n",
    "        ins.append(np.array(inputs).flatten())\n",
    "        \n",
    "        if sec[j] == struct:\n",
    "            outs.append(1)\n",
    "        else:\n",
    "            outs.append(0)\n",
    "    return (ins, outs)"
   ]
  },
  {
   "cell_type": "code",
   "execution_count": 8,
   "metadata": {
    "collapsed": false
   },
   "outputs": [],
   "source": [
    "def prepare_input_for2(sec, prim, sw, sx, sy, indexes): \n",
    "    length = len(prim)\n",
    "    \n",
    "    sec1 = \"\"\n",
    "    prefix = \"\"\n",
    "    sufix = \"\"\n",
    "    for q in range(sw/2):\n",
    "        prefix += rest\n",
    "        sufix += rest\n",
    "    primx = prefix + prim + sufix\n",
    "    \n",
    "    ins = []\n",
    "    outs = []\n",
    "    \n",
    "    \n",
    "    for j in range(length):\n",
    "        if indexes is None:\n",
    "            if sec[j] != sx and sec[j] != sy:\n",
    "                continue\n",
    "        if indexes is not None:\n",
    "            if indexes[j] == 1:\n",
    "                continue\n",
    "        inputs = []\n",
    "        for k in range(j, j + sw):\n",
    "            if aac.has_key(primx[k]):\n",
    "                inputs.append(aac[primx[k]])\n",
    "            else:\n",
    "                inputs.append(aac[rest])\n",
    "        ins.append(np.array(inputs).flatten())\n",
    "        if sec[j] == sx:\n",
    "            outs.append(1)\n",
    "        else:\n",
    "            outs.append(0)\n",
    "        sec1 += sec[j]\n",
    "    return (ins, outs, sec1)"
   ]
  },
  {
   "cell_type": "code",
   "execution_count": 9,
   "metadata": {
    "collapsed": true
   },
   "outputs": [],
   "source": [
    "def calcQ(pred, sec, struct):\n",
    "    correct = 1\n",
    "    observed = 1\n",
    "    \n",
    "    for i in range(len(pred)):\n",
    "        if sec[i] == struct:\n",
    "            observed += 1\n",
    "            if sec[i] == pred[i]:\n",
    "                correct += 1\n",
    "    \n",
    "    return 100 * correct / observed\n",
    "\n",
    "def calcQpred(pred, sec, struct):\n",
    "    correct = 1\n",
    "    observed = 1\n",
    "    \n",
    "    for i in range(len(pred)):\n",
    "        if pred[i] == struct:\n",
    "            observed += 1\n",
    "            if pred[i] == sec[i]:\n",
    "                correct += 1\n",
    "    \n",
    "    return 100 * correct / observed"
   ]
  },
  {
   "cell_type": "code",
   "execution_count": 33,
   "metadata": {
    "collapsed": false
   },
   "outputs": [],
   "source": [
    "def make_SVM_1(sw, dssp, z):\n",
    "    inputs_train = []\n",
    "    outputs_train = []\n",
    "\n",
    "    f = open('dataSet.txt', 'r')\n",
    "    for i in range(z):\n",
    "        f.readline()\n",
    "        prim = f.readline().strip()\n",
    "        sec = f.readline().strip()\n",
    "        ins, outs = prepare_input_for(sec, prim, sw, dssp)\n",
    "        for q in ins:\n",
    "            inputs_train.append(q)\n",
    "        for q in outs:\n",
    "            outputs_train.append(q)\n",
    "\n",
    "    f.close()\n",
    "\n",
    "    clfx = svm.SVC(C=1.5, gamma=0.1)\n",
    "    clfx.fit(inputs_train, outputs_train)\n",
    "    \n",
    "    return clfx\n",
    "\n",
    "    \n",
    "sw = 7\n",
    "dssp = 'H'\n",
    "z = 100\n",
    "\n",
    "clfH = make_SVM_1(sw, dssp, z)"
   ]
  },
  {
   "cell_type": "code",
   "execution_count": 38,
   "metadata": {
    "collapsed": false
   },
   "outputs": [
    {
     "data": {
      "text/plain": [
       "(44, 66)"
      ]
     },
     "execution_count": 38,
     "metadata": {},
     "output_type": "execute_result"
    }
   ],
   "source": [
    "def test_SMV_1(sw, dssp, w, clfx, z):\n",
    "    f = open('dataSet.txt', 'r')\n",
    "\n",
    "    cq = 0\n",
    "    cqp = 0\n",
    "    \n",
    "    for i in range(z+w+2000):\n",
    "        f.readline()\n",
    "        prim = f.readline().strip()\n",
    "        sec = f.readline().strip()\n",
    "\n",
    "\n",
    "        if i > z+2000:\n",
    "            ins, outs = prepare_input_for(sec, prim, sw, dssp)\n",
    "            pred = display_result(clfx.predict(np.array(ins, np.float32)), {0:'X', 1:dssp})\n",
    "#             print sec\n",
    "#             print pred\n",
    "#             print \"\\n\"\n",
    "            cq += calcQ(pred, sec, dssp)\n",
    "            cqp += calcQpred(pred, sec, dssp)\n",
    "\n",
    "    return (cq/w, cqp/w)\n",
    "\n",
    "w = 50\n",
    "test_SMV_1(sw, dssp, w, clfH, z)"
   ]
  },
  {
   "cell_type": "code",
   "execution_count": 126,
   "metadata": {
    "collapsed": false
   },
   "outputs": [
    {
     "data": {
      "text/plain": [
       "SVC(C=1.5, cache_size=200, class_weight=None, coef0=0.0,\n",
       "  decision_function_shape=None, degree=3, gamma=0.1, kernel='rbf',\n",
       "  max_iter=-1, probability=False, random_state=None, shrinking=True,\n",
       "  tol=0.001, verbose=False)"
      ]
     },
     "execution_count": 126,
     "metadata": {},
     "output_type": "execute_result"
    }
   ],
   "source": [
    "inputs_train = []\n",
    "outputs_train = []\n",
    "\n",
    "sx = 'E'\n",
    "sy = 'C'\n",
    "z = 50\n",
    "\n",
    "f = open('dataSet.txt', 'r')\n",
    "for i in range(z):\n",
    "    f.readline()\n",
    "    prim = f.readline().strip()\n",
    "    sec = f.readline().strip()\n",
    "    ins, outs, sec1 = prepare_input_for2(sec, prim, sw, sx, sy, None)\n",
    "    for q in ins:\n",
    "        inputs_train.append(q)\n",
    "    for q in outs:\n",
    "        outputs_train.append(q)\n",
    "    \n",
    "f.close()\n",
    "\n",
    "clf_EC = svm.SVC(C=1.5, gamma=0.1)\n",
    "clf_EC.fit(inputs_train, outputs_train)"
   ]
  },
  {
   "cell_type": "code",
   "execution_count": 128,
   "metadata": {
    "collapsed": false
   },
   "outputs": [
    {
     "name": "stdout",
     "output_type": "stream",
     "text": [
      "CCCCCCCCCCCCCCCCCCCCCCCCCCCCCCCCCCCCCCECCCCCCCCCCCC\n",
      "CCCCCCEEEECEECCCCCCCCCCCCCCCCCCCCCCCCCCCCCCEEEECCCC\n",
      "0.78431372549\n",
      "CCCCEEEEEEEECCCCEEEEECCEEEEECCCCCCEEEEECCCCCCCCCEEEEEEECCCCEEEEEEEECCEEEEEEEECCCCCCCCCCCCCEEEEEECCEEEEEECCCCCCEEEECCCCCEECEEECCCCCCCCECCEEEEECC\n",
      "CCCCCCCCCEEECCCCEEEECCCCCECECCCCCCCCCCEECCCCCCCCCEEECCCCCCCCEEEEECCCCCCCCECCCCCCCCCCCCCCCEEECCECCCCCCCCCCCCCCCEEEECCCCCCCEECCCCCCCCEEEEEEEEEECC\n",
      "0.671328671329\n",
      "CECCCCCCEEEEECCCCCCCCCCCCECCCCCCCCCEECCCCCCCCCCCEEEEEEEEEEEEEEEEEEEECCCCCCCCCCEEEEEEECCCCCCEEEEEEECCCCCCCEEECCCCEEEEEEEEEECCCCCCCCCCEEEEEEEEEEECC\n",
      "CCCCCCCCEEEECCCCCCCCCCCCCCCECCCCCEEEECCCCCCCCCCCCCEEEECCCCCEECEEEECCCCCCCCCCCEEEEEECCCCCCCCCCCCCECCCCCCCCEEEEECCCCCCEEEEECCCCCCCCEEEEEEECCECCCCCC\n",
      "0.71724137931\n",
      "CCCCCCCCCCCCCCCCCCCCCCCCCCCCCCCCCCCCCCCCC\n",
      "CCCCCCCCCCCCCCCEEECCCCCCCCCCCECCECCCCCCCC\n",
      "0.878048780488\n"
     ]
    }
   ],
   "source": [
    "f = open('dataSet.txt', 'r')\n",
    "\n",
    "for i in range(z+5):\n",
    "    f.readline()\n",
    "    prim = f.readline()\n",
    "    sec = f.readline()\n",
    "\n",
    "    ins, outs, sec = prepare_input_for2(sec, prim, sw, sx, sy, None)\n",
    "\n",
    "    pred = display_result(clf_EC.predict(np.array(ins, np.float32)), {0:sy, 1:sx})\n",
    "    if i > z:\n",
    "        print sec\n",
    "        print pred\n",
    "        print compare(sec, pred)"
   ]
  },
  {
   "cell_type": "code",
   "execution_count": 129,
   "metadata": {
    "collapsed": false
   },
   "outputs": [
    {
     "name": "stdout",
     "output_type": "stream",
     "text": [
      "CCHHHHHHHHHHCCCCCCCCHHHHHHCHHHHHHHHHCCCHHHHHHHHHCHHHHHHCCCCCHHHHHHHHHCCHHHHHHCCCCHHHHHHHHHHCCCCHHHHHHHCCCCCHHHHHHHHHCCCECCCCCCCCCCCC\n",
      "EECCCCEEEEEEEEEECCCCHHHHEEEEEEEEHHHHHHHHHHHHHEEHHHHHHHHHEEEEHHHHHHHHHEHEECCCEEEEEHCCHCEECEEEEEECCCCEEEEEEEEHHHHHHHCCEEEEEEEECCCCEEEE\n",
      "0.363636363636\n",
      "CCCCEEEEEEEECCCCEEEEECCEEEEECCCHHHHHHCCCEEEEECCCCCCCCCEEEEEEECCCCEEEEEEEECCEEEEEEEECCCCCCCCCCCCHHHCEEEEEECCEEEEEECCCCCCEEEECCCCCEECEEECCCCCCCCECCEEEEECC\n",
      "EEEEEEEEECCCEEHECCCCEEEHHHECEEEEEEEEEEEHEEEECCEEEEEEEEECCHEEEEHHEECCCCCEEEEEEEECEEEEEEEEEEEHEHEECCCCCEHCEEEEEEEEEEEEEEHCCCCEEEEEEECCEEEEEEEECCCCCCCCCCEE\n",
      "0.289473684211\n",
      "CECCCCCCEEEEECCCCCCCCCCCCECHHHHCCCCCCCCEECCCCCCCCCCCEEEEEEEEEEEEEEEEEEEECCCCCCCCCCEEEEEEECCCCCCEEEEEEECCCCCCCEEECCCCEEEEEEEEEECCCCCCCCCCEEEEEEEEEEECC\n",
      "EEEEEEEECCCCEEEEEEEEEEEEEEEECCCCEEEEECCCCEEEEEEEEEEEEECCCCHEEEEHHHHHHCEEEEEEEEEEECCCCCCEEEEEEEEEEEEECEEEEHHHHHHHCCEEEHHHCCCCCEEEEEEEECCCCCCCEECEEEEEE\n",
      "0.241610738255\n",
      "CCCCCCCCCHHHHHHHHHHHHHHHHHHHHHHCCCCCHHHHHHHHHHHHHHHHHHHHHHHHHHHHHHHCCCCCCCHHHHHHHHHHHHHHHHHHHHHHHHHHHHCCCCCCHHHHHHHHHHHHHHHHHHHHHCCCCCCCCCCHHHHHHHHHHHHHHHHHHHHHHHHHHHHHHHCCCHHHHHHHHHHHHHHHHHHHHHHHHHHHHHHHHHHHC\n",
      "EEEEEEEEEEEECHHEEHHHCEHEHHCCCHHEEEEEEEEEEECHEHHCCCEEEEEHCCCCCHHHHEEECCCEEEEEEEECCEEEEEECCCEEEEEEECCCCCEEEEEEEEHHHHHHHHHHHHHCHHHHHHHHEHCEEEEEEEEECECCCCCCEEEEEHHHHHHHHHHEHHHHHHHHHHHHHHHHHHHHEEEEHHHHHHHHHHHHECEEE\n",
      "0.377990430622\n",
      "CCCEEEEEECCCCCCHHHHHHHHHHHCCCCEEEEEECCHHHHHHCCCCCCCCHHHHHHHHCCECCCCEEEECCCCCHHHHHHHHCCCEEEECCCCHHHHHHHHHHHHHHCCCCEEEECCCCC\n",
      "EECCCCCEEECCCCCEEECCCHHHHHHEEEEECCCCCEEEEEEEEEEEECCEHHHHHHHHHEHEEEECCCCEEEEEEECCCCCCEEECCCCEEEEEEEHHHHHHHHEEEEECCCCCCCCEEE\n",
      "0.311475409836\n",
      "CCCCCCCCCCCCCCEEEEEECCCCCCCEEECHHHCCCHHHHHHCCCCCCCCC\n",
      "EEEEEEEEEEEEEEEECCCCCEEEEECCCCCCCCCCEEEEEEEEECCCCCEE\n",
      "0.230769230769\n",
      "CCCCECCCECHHHCCCHHHHHHHHHHHCEEEECCCCCHHHHHHHHHHHHHHHHHHCCCCCCCCCCCCCCCCCCCCCHHHHHHHCCHHHHHCCHHHHHHHHHHHCCCEEEEEEEEEEEECCCCCCCCCCCCCCCCCECHHHHCCCCCCCEEEEEECCCCCCCCCEEEEECCCCCCCCCCCEEEEEEEECCEEEEECCHHHCCCCCCEECCCCCCCCEEEEECCCCEEEECCCCCCCCCCEEEEEEEEEECCCCCCHHHHCCHHHHHHHHHHHHHHC\n",
      "EEEEECCEECCCCEEEEEEEHHEHEHEEHHCHEEEEEEEHCHHHHHHHHHHHHHHEEEEEEEHHEHEECEEECEEECCCCCECCCCEEEEEEEEECCCCCCCEEEECCCCCEEEECCEEEEEEEEEEECEEEEEEEEEECCEEEEEEECCCEECCCCCEEEEEECCCEEEEEEEEEEEECCEHHEEEEEEEEEEEEEEEEEHHHHCEEEEEEEEECCCCCHEEEEEEEEEEEEEEECECCEEEEEEEEEEEEEEEEEEEEEEHHEEHEHHHEEEE\n",
      "0.261818181818\n",
      "CCCHHHHHHHHHHHHHCCCHHHHHCCEEEEEEEEECCCCEEECHHHHHHHHHHHHHHHCCCCEEEEEEEEEECCEEEEEEEEECCCCCCCCCCCCCEEEEEEEEEECCEEEEEEEEC\n",
      "EEEEHHHHHHHHHHHEEEEEECCCCCCEEEEHCEEEEEECCCCEEEEEEEEHHHHEEEEEHHEEEHHHHHEEECCCCCCEEEEEEEEEEEEEEEEEEECCCCCCCEEEEEECCCCCE\n",
      "0.34188034188\n",
      "CCEEEEEECCCECCCCCECCCECCCEHHHHHHHHHHHHHHHHHHCCCEEEEECCCCCCCCCCCHHHHHHHHHHHHCCCCEEEEEEEECCCCCCCCEEEEECCHHHHHHHHHHHHHHCCCCCEEEEEECCCCHHHHCCCCEEEEEEEEECCCHHHHHHHHHHHHHHHHHHHHHHHHCCCCC\n",
      "EECCCCCCCCCCCEEEEEEEEEECCCHHHHEEEEEEEEEEEEEEEEEECCCCCEEHEEECCEEHEHEEECCCCEEEEHHHHHHHHCEEEEEEEEEECCCCCEEEEEECCCCCCCEEECCCCEEEEEHHHHHCCEEEEEEECCCCCCHCEEEEEEHHHHHHHEEEEECCHCCHCCEEEEEE\n",
      "0.222222222222\n"
     ]
    }
   ],
   "source": [
    "f = open('dataSet.txt', 'r')\n",
    "\n",
    "w = 10\n",
    "\n",
    "for i in range(z+w):\n",
    "    f.readline()\n",
    "    prim = f.readline().strip()\n",
    "    sec = f.readline().strip()\n",
    "    \n",
    "    if i > z:\n",
    "        ins, outs = prepare_input_for(sec, prim, sw, dssp)\n",
    "        pred = clf_H.predict(np.array(ins, np.float32))\n",
    "        ins, outs, sec1 = prepare_input_for2(sec, prim, sw, sx, sy, pred)\n",
    "        pred2 = clf_EC.predict(np.array(ins, np.float32))\n",
    "        \n",
    "        print sec\n",
    "\n",
    "        preds = \"\"\n",
    "        \n",
    "        t = 0\n",
    "        for i in range(len(pred)):\n",
    "            if pred[i] == 1:\n",
    "                preds += 'H'\n",
    "            else:\n",
    "                if pred2[t] == 0:\n",
    "                    preds += 'E'\n",
    "                else:\n",
    "                    preds += 'C'\n",
    "                t += 1\n",
    "        \n",
    "        print preds\n",
    "        \n",
    "        print compare(sec, preds)"
   ]
  }
 ],
 "metadata": {
  "kernelspec": {
   "display_name": "Python 2",
   "language": "python",
   "name": "python2"
  },
  "language_info": {
   "codemirror_mode": {
    "name": "ipython",
    "version": 2
   },
   "file_extension": ".py",
   "mimetype": "text/x-python",
   "name": "python",
   "nbconvert_exporter": "python",
   "pygments_lexer": "ipython2",
   "version": "2.7.10"
  }
 },
 "nbformat": 4,
 "nbformat_minor": 0
}
